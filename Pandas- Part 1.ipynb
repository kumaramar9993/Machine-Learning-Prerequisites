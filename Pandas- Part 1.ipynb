{
 "cells": [
  {
   "cell_type": "markdown",
   "metadata": {},
   "source": [
    "# Pandas"
   ]
  },
  {
   "cell_type": "markdown",
   "metadata": {},
   "source": [
    "# Creating DataFrame"
   ]
  },
  {
   "cell_type": "markdown",
   "metadata": {},
   "source": [
    "creatind dataframe using list"
   ]
  },
  {
   "cell_type": "code",
   "execution_count": 3,
   "metadata": {},
   "outputs": [
    {
     "name": "stdout",
     "output_type": "stream",
     "text": [
      "      0\n",
      "0  this\n",
      "1    is\n",
      "2  good\n"
     ]
    }
   ],
   "source": [
    "#importing pandas library\n",
    "import pandas as pd\n",
    "#creating a list\n",
    "data = [\"this\",\"is\",\"good\"]\n",
    "#creating dataframe using DataFrame objects\n",
    "df = pd.DataFrame(data)\n",
    "#print dataframe\n",
    "print(df)"
   ]
  },
  {
   "cell_type": "markdown",
   "metadata": {},
   "source": [
    "Creating dataframe using arrays"
   ]
  },
  {
   "cell_type": "code",
   "execution_count": 6,
   "metadata": {},
   "outputs": [
    {
     "name": "stdout",
     "output_type": "stream",
     "text": [
      "      A    B\n",
      "c  this  1.0\n",
      "b    is  1.0\n",
      "a  good  2.0\n",
      "d  this  NaN\n",
      "e    no  3.0\n"
     ]
    }
   ],
   "source": [
    "#creating array for dataframe\n",
    "data = {\"A\":[\"this\",\"is\",\"good\",\"this\",\"no\"],\"B\":[1,1,2,None,3]}\n",
    "#creating dataframe by providing index\n",
    "df = pd.DataFrame(data,index=[\"c\",\"b\",\"a\",\"d\",\"e\"])\n",
    "print(df)\n",
    "\n"
   ]
  },
  {
   "cell_type": "markdown",
   "metadata": {},
   "source": [
    "Getting row index"
   ]
  },
  {
   "cell_type": "code",
   "execution_count": 9,
   "metadata": {},
   "outputs": [
    {
     "data": {
      "text/plain": [
       "['c', 'b', 'a', 'd', 'e']"
      ]
     },
     "execution_count": 9,
     "metadata": {},
     "output_type": "execute_result"
    }
   ],
   "source": [
    "# getting index of pandas dataframe\n",
    "df.index.tolist()\n"
   ]
  },
  {
   "cell_type": "markdown",
   "metadata": {},
   "source": [
    "Getting column names of dataframe"
   ]
  },
  {
   "cell_type": "code",
   "execution_count": 8,
   "metadata": {},
   "outputs": [
    {
     "data": {
      "text/plain": [
       "['A', 'B']"
      ]
     },
     "execution_count": 8,
     "metadata": {},
     "output_type": "execute_result"
    }
   ],
   "source": [
    "\n",
    "#getting column names of pandas dataframe\n",
    "df.columns.tolist()\n"
   ]
  },
  {
   "cell_type": "markdown",
   "metadata": {},
   "source": [
    "# Pandas Methods"
   ]
  },
  {
   "cell_type": "markdown",
   "metadata": {},
   "source": [
    "## 1.Inserting a new column"
   ]
  },
  {
   "cell_type": "markdown",
   "metadata": {},
   "source": [
    "### dataframe.insert(loc,column,value,allow_duplicates=False)\n",
    "\n",
    "__loc__: loc is an integer which is the location of column where we want to insert new column. This will shift the existing column at that position to the right.<br>\n",
    "__column__: column is a string which is name of column to be inserted.<br>\n",
    "__value__: value is simply the value to be inserted. It can be int, string, float or anything or even series / List of values. Providing only one value will set the same value for all rows.<br>\n",
    "__allow_duplicates__ : allow_duplicates is a boolean value which checks if column with same name already exists or not.<br>\n"
   ]
  },
  {
   "cell_type": "code",
   "execution_count": 24,
   "metadata": {},
   "outputs": [
    {
     "name": "stdout",
     "output_type": "stream",
     "text": [
      "original dataframe\n",
      "      A    B\n",
      "c  this  1.0\n",
      "b    is  1.0\n",
      "a  good  2.0\n",
      "d  this  NaN\n",
      "e    no  3.0\n",
      "\n",
      "\n",
      "dataframe with new column\n",
      "      A    B  new_col\n",
      "c  this  1.0        0\n",
      "b    is  1.0        0\n",
      "a  good  2.0        0\n",
      "d  this  NaN        0\n",
      "e    no  3.0        0\n"
     ]
    }
   ],
   "source": [
    "#creating array for dataframe\n",
    "data = {\"A\":[\"this\",\"is\",\"good\",\"this\",\"no\"],\"B\":[1,1,2,None,3]}\n",
    "#creating dataframe by providing index\n",
    "df = pd.DataFrame(data,index=[\"c\",\"b\",\"a\",\"d\",\"e\"])\n",
    "print(\"original dataframe\")\n",
    "print(df)\n",
    "\n",
    "print(\"\\n\\ndataframe with new column\")\n",
    "#inserting new column\n",
    "df.insert(2,\"new_col\",0,allow_duplicates=True)\n",
    "print(df)"
   ]
  },
  {
   "cell_type": "markdown",
   "metadata": {},
   "source": [
    "## 2.Applying arithmetic operation on dataframe"
   ]
  },
  {
   "cell_type": "code",
   "execution_count": 31,
   "metadata": {},
   "outputs": [],
   "source": [
    "#adding one \n",
    "temp = df.add(1)\n",
    "print(temp)\n",
    "#gives error because you cann't apply arithmetic on string column"
   ]
  },
  {
   "cell_type": "code",
   "execution_count": 32,
   "metadata": {},
   "outputs": [
    {
     "name": "stdout",
     "output_type": "stream",
     "text": [
      "     B\n",
      "c  2.0\n",
      "b  2.0\n",
      "a  3.0\n",
      "d  NaN\n",
      "e  4.0\n"
     ]
    }
   ],
   "source": [
    "#adding one \n",
    "temp = df[[\"B\"]].add(1)\n",
    "print(temp)"
   ]
  },
  {
   "cell_type": "markdown",
   "metadata": {},
   "source": [
    "similary you can do subtraction, multiplication and division by using __sub,mul and div__ methods respectively "
   ]
  },
  {
   "cell_type": "markdown",
   "metadata": {},
   "source": [
    "## 3. Finding redundancy in dataframe"
   ]
  },
  {
   "cell_type": "markdown",
   "metadata": {},
   "source": [
    "### drop_duplicates(subset=None,keep=\"first\",inplace=False)\n"
   ]
  },
  {
   "cell_type": "markdown",
   "metadata": {},
   "source": [
    "__subset__ : column label or sequence of labels, optional; Only consider certain columns for identifying duplicates, by default use all of the columns\n",
    "\n",
    "__keep__ : {‘first’, ‘last’, False}, default ‘first’\n",
    "- first : Drop duplicates except for the first occurrence.\n",
    "- last : Drop duplicates except for the last occurrence.\n",
    "- False : Drop all duplicates.\n",
    "\n",
    "\n",
    "__inplace__ : boolean, default False\n",
    "Whether to drop duplicates in place or to return a copy"
   ]
  },
  {
   "cell_type": "code",
   "execution_count": 54,
   "metadata": {},
   "outputs": [
    {
     "name": "stdout",
     "output_type": "stream",
     "text": [
      "original dataframe\n",
      "      A    B\n",
      "c  this  1.0\n",
      "b    is  NaN\n",
      "a  good  2.0\n",
      "d  this  1.0\n",
      "e    no  3.0\n",
      "f   now  2.0\n",
      "\n",
      "\n",
      " removing duplicate records\n",
      "      A    B\n",
      "c  this  1.0\n",
      "b    is  NaN\n",
      "a  good  2.0\n",
      "e    no  3.0\n",
      "f   now  2.0\n",
      "\n",
      "\n",
      " removing duplicate records on column B and keeping the last record\n",
      "      A    B\n",
      "b    is  NaN\n",
      "d  this  1.0\n",
      "e    no  3.0\n",
      "f   now  2.0\n",
      "\n",
      "\n",
      " removing duplicate records on column B and keeping the last record with inplace True\n",
      "      A    B\n",
      "b    is  NaN\n",
      "d  this  1.0\n",
      "e    no  3.0\n",
      "f   now  2.0\n"
     ]
    }
   ],
   "source": [
    "#creating array for dataframe\n",
    "data = {\"A\":[\"this\",\"is\",\"good\",\"this\",\"no\",\"now\"],\"B\":[1,None,2,1,3,2]}\n",
    "#creating dataframe by providing index\n",
    "df = pd.DataFrame(data,index=[\"c\",\"b\",\"a\",\"d\",\"e\",\"f\"])\n",
    "print(\"original dataframe\")\n",
    "print(df)\n",
    "\n",
    "print(\"\\n\\n removing duplicate records\")\n",
    "#removing duplicate records\n",
    "df1=df.drop_duplicates()\n",
    "print(df1)\n",
    "\n",
    "#removing duplicate records on by column :A: duplicates values keep only last records\n",
    "print(\"\\n\\n removing duplicate records on column B and keeping the last record\")\n",
    "df1=df.drop_duplicates(\"B\",keep=\"last\")\n",
    "print(df1)\n",
    "\n",
    "#when inplace is True need not to store dataframe in new variable \n",
    "print(\"\\n\\n removing duplicate records on column B and keeping the last record with inplace True\")\n",
    "df2= df\n",
    "df2.drop_duplicates(\"B\",keep=\"last\",inplace=True)\n",
    "print(df2)"
   ]
  },
  {
   "cell_type": "markdown",
   "metadata": {},
   "source": [
    "## 4.Finding unique values "
   ]
  },
  {
   "cell_type": "markdown",
   "metadata": {},
   "source": [
    "__unique()__ : finds the unique values of a column or a series <br>\n",
    "__nunique()__ : finds sthe number of unique values in a column or a series\n"
   ]
  },
  {
   "cell_type": "code",
   "execution_count": 56,
   "metadata": {},
   "outputs": [
    {
     "name": "stdout",
     "output_type": "stream",
     "text": [
      "original dataframe\n",
      "      A    B\n",
      "c  this  1.0\n",
      "b    is  NaN\n",
      "a  good  2.0\n",
      "d  this  1.0\n",
      "e    no  3.0\n",
      "f   now  2.0\n"
     ]
    }
   ],
   "source": [
    "#creating array for dataframe\n",
    "data = {\"A\":[\"this\",\"is\",\"good\",\"this\",\"no\",\"now\"],\"B\":[1,None,2,1,3,2]}\n",
    "#creating dataframe by providing index\n",
    "df = pd.DataFrame(data,index=[\"c\",\"b\",\"a\",\"d\",\"e\",\"f\"])\n",
    "print(\"original dataframe\")\n",
    "print(df)\n",
    "\n"
   ]
  },
  {
   "cell_type": "code",
   "execution_count": 59,
   "metadata": {},
   "outputs": [
    {
     "name": "stdout",
     "output_type": "stream",
     "text": [
      "unique values in column A are :  ['this' 'is' 'good' 'no' 'now']\n",
      "number of unique values in column A are :  5\n"
     ]
    }
   ],
   "source": [
    "#finding unique values in column A\n",
    "print(\"unique values in column A are : \", df[\"A\"].unique())\n",
    "print(\"number of unique values in column A are : \", df[\"A\"].nunique())\n"
   ]
  },
  {
   "cell_type": "markdown",
   "metadata": {},
   "source": [
    "## 5.Checking datatypes of each column"
   ]
  },
  {
   "cell_type": "code",
   "execution_count": 70,
   "metadata": {},
   "outputs": [
    {
     "name": "stdout",
     "output_type": "stream",
     "text": [
      "original dataframe\n",
      "      A    B\n",
      "c  this  1.0\n",
      "b    is  5.0\n",
      "a  good  2.0\n",
      "d  this  1.0\n",
      "e    no  3.0\n",
      "f   now  2.0\n"
     ]
    },
    {
     "data": {
      "text/plain": [
       "A     object\n",
       "B    float64\n",
       "dtype: object"
      ]
     },
     "execution_count": 70,
     "metadata": {},
     "output_type": "execute_result"
    }
   ],
   "source": [
    "#creating array for dataframe\n",
    "data = {\"A\":[\"this\",\"is\",\"good\",\"this\",\"no\",\"now\"],\"B\":[1,5.0,2,1,3,2]}\n",
    "#creating dataframe by providing index\n",
    "df = pd.DataFrame(data,index=[\"c\",\"b\",\"a\",\"d\",\"e\",\"f\"])\n",
    "print(\"original dataframe\")\n",
    "print(df)\n",
    "\n",
    "#checking data type of each column\n",
    "df.dtypes"
   ]
  },
  {
   "cell_type": "markdown",
   "metadata": {},
   "source": [
    "__changing the datatype of a columns__"
   ]
  },
  {
   "cell_type": "code",
   "execution_count": 71,
   "metadata": {},
   "outputs": [
    {
     "data": {
      "text/plain": [
       "dtype('int64')"
      ]
     },
     "execution_count": 71,
     "metadata": {},
     "output_type": "execute_result"
    }
   ],
   "source": [
    "df1=df[\"B\"].astype(\"int\")\n",
    "#now checking datatype\n",
    "df1.dtypes"
   ]
  },
  {
   "cell_type": "markdown",
   "metadata": {},
   "source": [
    "## 6.Filtering rows of dataframe"
   ]
  },
  {
   "cell_type": "code",
   "execution_count": 89,
   "metadata": {},
   "outputs": [
    {
     "name": "stdout",
     "output_type": "stream",
     "text": [
      "original dataframe\n",
      "      A    B\n",
      "c  this  1.0\n",
      "b    is  5.0\n",
      "a  good  NaN\n",
      "d  this  1.0\n",
      "e    no  3.0\n",
      "f   now  2.0\n"
     ]
    }
   ],
   "source": [
    "#creating array for dataframe\n",
    "data = {\"A\":[\"this\",\"is\",\"good\",\"this\",\"no\",\"now\"],\"B\":[1,5.0,None,1,3,2]}\n",
    "#creating dataframe by providing index\n",
    "df = pd.DataFrame(data,index=[\"c\",\"b\",\"a\",\"d\",\"e\",\"f\"])\n",
    "print(\"original dataframe\")\n",
    "print(df)"
   ]
  },
  {
   "cell_type": "code",
   "execution_count": 90,
   "metadata": {},
   "outputs": [],
   "source": [
    "d1=df[df[\"B\"].isna()==True]"
   ]
  },
  {
   "cell_type": "code",
   "execution_count": 91,
   "metadata": {},
   "outputs": [
    {
     "data": {
      "text/html": [
       "<div>\n",
       "<style scoped>\n",
       "    .dataframe tbody tr th:only-of-type {\n",
       "        vertical-align: middle;\n",
       "    }\n",
       "\n",
       "    .dataframe tbody tr th {\n",
       "        vertical-align: top;\n",
       "    }\n",
       "\n",
       "    .dataframe thead th {\n",
       "        text-align: right;\n",
       "    }\n",
       "</style>\n",
       "<table border=\"1\" class=\"dataframe\">\n",
       "  <thead>\n",
       "    <tr style=\"text-align: right;\">\n",
       "      <th></th>\n",
       "      <th>A</th>\n",
       "      <th>B</th>\n",
       "    </tr>\n",
       "  </thead>\n",
       "  <tbody>\n",
       "    <tr>\n",
       "      <th>a</th>\n",
       "      <td>good</td>\n",
       "      <td>NaN</td>\n",
       "    </tr>\n",
       "  </tbody>\n",
       "</table>\n",
       "</div>"
      ],
      "text/plain": [
       "      A   B\n",
       "a  good NaN"
      ]
     },
     "execution_count": 91,
     "metadata": {},
     "output_type": "execute_result"
    }
   ],
   "source": [
    "d1"
   ]
  },
  {
   "cell_type": "code",
   "execution_count": null,
   "metadata": {},
   "outputs": [],
   "source": []
  }
 ],
 "metadata": {
  "kernelspec": {
   "display_name": "Python 2",
   "language": "python",
   "name": "python2"
  },
  "language_info": {
   "codemirror_mode": {
    "name": "ipython",
    "version": 3
   },
   "file_extension": ".py",
   "mimetype": "text/x-python",
   "name": "python",
   "nbconvert_exporter": "python",
   "pygments_lexer": "ipython3",
   "version": "3.5.2"
  }
 },
 "nbformat": 4,
 "nbformat_minor": 2
}
